{
  "cells": [
    {
      "cell_type": "code",
      "execution_count": 27,
      "metadata": {
        "id": "ln3vs9i6N71P"
      },
      "outputs": [],
      "source": [
        "import matplotlib.pyplot as plt\n",
        "import seaborn as sns\n",
        "import matplotlib as mpl\n",
        "import matplotlib.pylab as pylab\n",
        "import numpy as np\n",
        "%matplotlib inline\n",
        "from nltk.tokenize import sent_tokenize, word_tokenize\n",
        "import warnings\n",
        "warnings.filterwarnings(action = 'ignore')\n",
        "import gensim\n",
        "from gensim.models import Word2Vec\n",
        "import re\n",
        "import bs4 as bs\n",
        "import urllib.request\n",
        "import nltk"
      ]
    },
    {
      "cell_type": "code",
      "execution_count": 28,
      "metadata": {
        "colab": {
          "base_uri": "https://localhost:8080/"
        },
        "id": "CEuN8JVkFWAH",
        "outputId": "c12287f7-79c4-4df7-895d-9b545bea8915"
      },
      "outputs": [
        {
          "name": "stderr",
          "output_type": "stream",
          "text": [
            "[nltk_data] Downloading package punkt to\n",
            "[nltk_data]     C:\\Users\\vmkat\\AppData\\Roaming\\nltk_data...\n",
            "[nltk_data]   Package punkt is already up-to-date!\n",
            "[nltk_data] Downloading package stopwords to\n",
            "[nltk_data]     C:\\Users\\vmkat\\AppData\\Roaming\\nltk_data...\n",
            "[nltk_data]   Package stopwords is already up-to-date!\n"
          ]
        },
        {
          "data": {
            "text/plain": [
              "True"
            ]
          },
          "execution_count": 28,
          "metadata": {},
          "output_type": "execute_result"
        }
      ],
      "source": [
        "\n",
        "nltk.download('punkt')\n",
        "nltk.download('stopwords')"
      ]
    },
    {
      "cell_type": "markdown",
      "metadata": {
        "id": "_OYQKYFaRDGL"
      },
      "source": [
        "# Step 1(a) : Download or collect data. or Prepare Corpus"
      ]
    },
    {
      "cell_type": "code",
      "execution_count": 25,
      "metadata": {
        "id": "TmrQNSpdFy0H"
      },
      "outputs": [],
      "source": [
        "scrapped_data=urllib.request.urlopen(\"https://en.wikipedia.org/wiki/Machine_learning\")\n",
        "article=scrapped_data.read()\n",
        "paresed_article=bs.BeautifulSoup(article,'lxml')\n",
        "paragraphs=paresed_article.find_all('p')\n",
        "article_text=\"\"\n",
        "for p in paragraphs:\n",
        "  article_text+=p.text\n",
        "sentences=article_text"
      ]
    },
    {
      "cell_type": "code",
      "execution_count": 26,
      "metadata": {
        "colab": {
          "base_uri": "https://localhost:8080/"
        },
        "id": "55LdR3XwNGG3",
        "outputId": "a3a44124-ba7e-4c13-e906-d6465fdc721e"
      },
      "outputs": [
        {
          "name": "stdout",
          "output_type": "stream",
          "text": [
            "Machine learning (ML) is a field of study in artificial intelligence concerned with the development and study of statistical algorithms that can effectively generalize and thus perform tasks without explicit instructions.[1] Recently, generative artificial neural networks have been able to surpass many previous approaches in performance.[2][3] Machine learning approaches have been applied to large language models, computer vision, speech recognition, email filtering, agriculture and medicine, where it is too costly to develop algorithms to perform the needed tasks.[4][5]\n",
            "The mathematical foundations of ML are provided by mathematical optimization (mathematical programming) methods. Data mining is a related (parallel) field of study, focusing on exploratory data analysis through unsupervised learning.[7][8]\n",
            "ML is known in its application across business problems under the name predictive analytics. Although not all machine learning is statistically based, computational statistics is an important source of the field's methods. \n",
            "The term machine learning was coined in 1959 by Arthur Samuel, an IBM employee and pioneer in the field of computer gaming and artificial intelligence.[9][10] The synonym self-teaching computers was also used in this time period.[11][12]\n",
            "By the early 1960s an experimental \"learning machine\" with punched tape memory, called Cybertron, had been developed by Raytheon Company to analyze sonar signals, electrocardiograms, and speech patterns using rudimentary reinforcement learning. It was repetitively \"trained\" by a human operator/teacher to recognize patterns and equipped with a \"goof\" button to cause it to re-evaluate incorrect decisions.[13] A representative book on research into machine learning during the 1960s was Nilsson's book on Learning Machines, dealing mostly with machine learning for pattern classification.[14] Interest related to pattern recognition continued into the 1970s, as described by Duda and Hart in 1973.[15] In 1981 a report was given on using teaching strategies so that a neural network learns to recognize 40 characters (26 letters, 10 digits, and 4 special symbols) from a computer terminal.[16]\n",
            "Tom M. Mitchell provided a widely quoted, more formal definition of the algorithms studied in the machine learning field: \"A computer program is said to learn from experience E with respect to some class of tasks T and performance measure P if its performance at tasks in T, as measured by P,  improves with experience E.\"[17] This definition of the tasks in which machine learning is concerned offers a fundamentally operational definition rather than defining the field in cognitive terms. This follows Alan Turing's proposal in his paper \"Computing Machinery and Intelligence\", in which the question \"Can machines think?\" is replaced with the question \"Can machines do what we (as thinking entities) can do?\".[18]\n",
            "Modern-day machine learning has two objectives, one is to classify data based on models which have been developed, the other purpose is to make predictions for future outcomes based on these models. A hypothetical algorithm specific to classifying data may use computer vision of moles coupled with supervised learning in order to train it to classify the cancerous moles. A machine learning algorithm for stock trading may inform the trader of future potential predictions.[19]\n",
            "As a scientific endeavor, machine learning grew out of the quest for artificial intelligence (AI). In the early days of AI as an academic discipline, some researchers were interested in having machines learn from data. They attempted to approach the problem with various symbolic methods, as well as what were then termed \"neural networks\"; these were mostly perceptrons and other models that were later found to be reinventions of the generalized linear models of statistics.[21] Probabilistic reasoning was also employed, especially in automated medical diagnosis.[22]: 488 \n",
            "However, an increasing emphasis on the logical, knowledge-based approach caused a rift between AI and machine learning. Probabilistic systems were plagued by theoretical and practical problems of data acquisition and representation.[22]: 488  By 1980, expert systems had come to dominate AI, and statistics was out of favor.[23] Work on symbolic/knowledge-based learning did continue within AI, leading to inductive logic programming, but the more statistical line of research was now outside the field of AI proper, in pattern recognition and information retrieval.[22]: 708–710, 755  Neural networks research had been abandoned by AI and computer science around the same time. This line, too, was continued outside the AI/CS field, as \"connectionism\", by researchers from other disciplines including Hopfield, Rumelhart, and Hinton. Their main success came in the mid-1980s with the reinvention of backpropagation.[22]: 25 \n",
            "Machine learning (ML), reorganized and recognized as its own field, started to flourish in the 1990s. The field changed its goal from achieving artificial intelligence to tackling solvable problems of a practical nature. It shifted focus away from the symbolic approaches it had inherited from AI, and toward methods and models borrowed from statistics, fuzzy logic, and probability theory.[23]\n",
            "Machine learning and data mining often employ the same methods and overlap significantly, but while machine learning focuses on prediction, based on known properties learned from the training data, data mining focuses on the discovery of (previously) unknown properties in the data (this is the analysis step of knowledge discovery in databases). Data mining uses many machine learning methods, but with different goals; on the other hand, machine learning also employs data mining methods as \"unsupervised learning\" or as a preprocessing step to improve learner accuracy. Much of the confusion between these two research communities (which do often have separate conferences and separate journals, ECML PKDD being a major exception) comes from the basic assumptions they work with: in machine learning, performance is usually evaluated with respect to the ability to reproduce known knowledge, while in knowledge discovery and data mining (KDD) the key task is the discovery of previously unknown knowledge. Evaluated with respect to known knowledge, an uninformed (unsupervised) method will easily be outperformed by other supervised methods, while in a typical KDD task, supervised methods cannot be used due to the unavailability of training data.\n",
            "Machine learning also has intimate ties to optimization: many learning problems are formulated as minimization of some loss function on a training set of examples. Loss functions express the discrepancy between the predictions of the model being trained and the actual problem instances (for example, in classification, one wants to assign a label to instances, and models are trained to correctly predict the pre-assigned labels of a set of examples).[24]\n",
            "The difference between optimization and machine learning arises from the goal of generalization: while optimization algorithms can minimize the loss on a training set, machine learning is concerned with minimizing the loss on unseen samples. Characterizing the generalization of various learning algorithms is an active topic of current research, especially for deep learning algorithms.\n",
            "Machine learning and statistics are closely related fields in terms of methods, but distinct in their principal goal: statistics draws population inferences from a sample, while machine learning finds generalizable predictive patterns.[25] According to Michael I. Jordan, the ideas of machine learning, from methodological principles to theoretical tools, have had a long pre-history in statistics.[26] He also suggested the term data science as a placeholder to call the overall field.[26]\n",
            "Conventional statistical analyses require the a priori selection of a model most suitable for the study data set. In addition, only significant or theoretically relevant variables based on previous experience are included for analysis. In contrast, machine learning is not built on a pre-structured model; rather, the data shape the model by detecting underlying patterns. The more variables (input) used to train the model, the more accurate the ultimate model will be.[27]\n",
            "Leo Breiman distinguished two statistical modeling paradigms: data model and algorithmic model,[28] wherein \"algorithmic model\" means more or less the machine learning algorithms like Random Forest.\n",
            "Some statisticians have adopted methods from machine learning, leading to a combined field that they call statistical learning.[29]\n",
            "Analytical and computational techniques derived from deep-rooted physics of disordered systems can be extended to large-scale problems, including machine learning, e.g., to analyze the weight space of deep neural networks.[30] Statistical physics is thus finding applications in the area of medical diagnostics.[31]\n",
            "A core objective of a learner is to generalize from its experience.[6][32] Generalization in this context is the ability of a learning machine to perform accurately on new, unseen examples/tasks after having experienced a learning data set. The training examples come from some generally unknown probability distribution (considered representative of the space of occurrences) and the learner has to build a general model about this space that enables it to produce sufficiently accurate predictions in new cases.\n",
            "The computational analysis of machine learning algorithms and their performance is a branch of theoretical computer science known as computational learning theory via the Probably Approximately Correct Learning (PAC) model. Because training sets are finite and the future is uncertain, learning theory usually does not yield guarantees of the performance of algorithms. Instead, probabilistic bounds on the performance are quite common. The bias–variance decomposition is one way to quantify generalization error.\n",
            "For the best performance in the context of generalization, the complexity of the hypothesis should match the complexity of the function underlying the data. If the hypothesis is less complex than the function, then the model has under fitted the data. If the complexity of the model is increased in response, then the training error decreases. But if the hypothesis is too complex, then the model is subject to overfitting and generalization will be poorer.[33]\n",
            "In addition to performance bounds, learning theorists study the time complexity and feasibility of learning. In computational learning theory, a computation is considered feasible if it can be done in polynomial time. There are two kinds of time complexity results: Positive results show that a certain class of functions can be learned in polynomial time. Negative results show that certain classes cannot be learned in polynomial time.\n",
            "\n",
            "Machine learning approaches are traditionally divided into three broad categories, which correspond to learning paradigms, depending on the nature of the \"signal\" or \"feedback\" available to the learning system:\n",
            "Supervised learning algorithms build a mathematical model of a set of data that contains both the inputs and the desired outputs.[37] The data is known as training data, and consists of a set of training examples. Each training example has one or more inputs and the desired output, also known as a supervisory signal.  In the mathematical model, each training example is represented by an array or vector, sometimes called a feature vector, and the training data is represented by a matrix. Through iterative optimization of an objective function, supervised learning algorithms learn a function that can be used to predict the output associated with new inputs.[38] An optimal function allows the algorithm to correctly determine the output for inputs that were not a part of the training data. An algorithm that improves the accuracy of its outputs or predictions over time is said to have learned to perform that task.[17]\n",
            "Types of supervised-learning algorithms include active learning, classification and regression.[39] Classification algorithms are used when the outputs are restricted to a limited set of values, and regression algorithms are used when the outputs may have any numerical value within a range. As an example, for a classification algorithm that filters emails, the input would be an incoming email, and the output would be the name of the folder in which to file the email.\n",
            "Similarity learning is an area of supervised machine learning closely related to regression and classification, but the goal is to learn from examples using a similarity function that measures how similar or related two objects are. It has applications in ranking, recommendation systems, visual identity tracking, face verification, and speaker verification.\n",
            "Unsupervised learning algorithms take a set of data that contains only inputs, and find structure in the data, like grouping or clustering of data points. The algorithms, therefore, learn from test data that has not been labeled, classified or categorized. Instead of responding to feedback, unsupervised learning algorithms identify commonalities in the data and react based on the presence or absence of such commonalities in each new piece of data. A central application of unsupervised learning is in the field of density estimation in statistics, such as finding the probability density function.[40] Though unsupervised learning encompasses other domains involving summarizing and explaining data features. Unsupervised learning algorithms streamlined the process of survey and graph large indel based haplotypes of a gene of interest from pan-genome.[41]\n",
            "Cluster analysis is the assignment of a set of observations into subsets (called clusters) so that observations within the same cluster are similar according to one or more predesignated criteria, while observations drawn from different clusters are dissimilar. Different clustering techniques make different assumptions on the structure of the data, often defined by some similarity metric and evaluated, for example, by internal compactness, or the similarity between members of the same cluster, and separation, the difference between clusters. Other methods are based on estimated density and graph connectivity.\n",
            "Semi-supervised learning falls between unsupervised learning (without any labeled training data) and supervised learning (with completely labeled training data). Some of the training examples are missing training labels, yet many machine-learning researchers have found that unlabeled data, when used in conjunction with a small amount of labeled data, can produce a considerable improvement in learning accuracy.\n",
            "In weakly supervised learning, the training labels are noisy, limited, or imprecise; however, these labels are often cheaper to obtain, resulting in larger effective training sets.[42]\n",
            "Reinforcement learning is an area of machine learning concerned with how software agents ought to take actions in an environment so as to maximize some notion of cumulative reward. Due to its generality, the field is studied in many other disciplines, such as game theory, control theory, operations research, information theory, simulation-based optimization, multi-agent systems, swarm intelligence, statistics and genetic algorithms. In reinforcement learning, the environment is typically represented as a Markov decision process (MDP). Many reinforcements learning algorithms use dynamic programming techniques.[43] Reinforcement learning algorithms do not assume knowledge of an exact mathematical model of the MDP and are used when exact models are infeasible. Reinforcement learning algorithms are used in autonomous vehicles or in learning to play a game against a human opponent.\n",
            "Dimensionality reduction is a process of reducing the number of random variables under consideration by obtaining a set of principal variables.[44] In other words, it is a process of reducing the dimension of the feature set, also called the \"number of features\". Most of the dimensionality reduction techniques can be considered as either feature elimination or extraction. One of the popular methods of dimensionality reduction is principal component analysis (PCA). PCA involves changing higher-dimensional data (e.g., 3D) to a smaller space (e.g., 2D). This results in a smaller dimension of data (2D instead of 3D), while keeping all original variables in the model without changing the data.[45]\n",
            "The manifold hypothesis proposes that high-dimensional data sets lie along low-dimensional manifolds, and many dimensionality reduction techniques make this assumption, leading to the area of manifold learning and manifold regularization.\n",
            "Other approaches have been developed which do not fit neatly into this three-fold categorization, and sometimes more than one is used by the same machine learning system. For example, topic modeling, meta-learning.[46]\n",
            "Self-learning, as a machine learning paradigm was introduced in 1982 along with a neural network capable of self-learning, named crossbar adaptive array (CAA).[47] It is learning with no external rewards and no external teacher advice. The CAA self-learning algorithm computes, in a crossbar fashion, both decisions about actions and emotions (feelings) about consequence situations. The system is driven by the interaction between cognition and emotion.[48]\n",
            "The self-learning algorithm updates a memory matrix W =||w(a,s)|| such that in each iteration executes the following machine learning routine: \n",
            "It is a system with only one input, situation, and only one output, action (or behavior) a. There is neither a separate reinforcement input nor an advice input from the environment. The backpropagated value (secondary reinforcement) is the emotion toward the consequence situation. The CAA exists in two environments, one is the behavioral environment where it behaves, and the other is the genetic environment, wherefrom it initially and only once receives initial emotions about situations to be encountered in the behavioral environment. After receiving the genome (species) vector from the genetic environment, the CAA learns a goal-seeking behavior, in an environment that contains both desirable and undesirable situations.[49]\n",
            "Several learning algorithms aim at discovering better representations of the inputs provided during training.[50] Classic examples include principal component analysis and cluster analysis. Feature learning algorithms, also called representation learning algorithms, often attempt to preserve the information in their input but also transform it in a way that makes it useful, often as a pre-processing step before performing classification or predictions. This technique allows reconstruction of the inputs coming from the unknown data-generating distribution, while not being necessarily faithful to configurations that are implausible under that distribution. This replaces manual feature engineering, and allows a machine to both learn the features and use them to perform a specific task.\n",
            "Feature learning can be either supervised or unsupervised. In supervised feature learning, features are learned using labeled input data. Examples include artificial neural networks, multilayer perceptrons, and supervised dictionary learning. In unsupervised feature learning, features are learned with unlabeled input data.  Examples include dictionary learning, independent component analysis, autoencoders, matrix factorization[51] and various forms of clustering.[52][53][54]\n",
            "Manifold learning algorithms attempt to do so under the constraint that the learned representation is low-dimensional. Sparse coding algorithms attempt to do so under the constraint that the learned representation is sparse, meaning that the mathematical model has many zeros. Multilinear subspace learning algorithms aim to learn low-dimensional representations directly from tensor representations for multidimensional data, without reshaping them into higher-dimensional vectors.[55] Deep learning algorithms discover multiple levels of representation, or a hierarchy of features, with higher-level, more abstract features defined in terms of (or generating) lower-level features. It has been argued that an intelligent machine is one that learns a representation that disentangles the underlying factors of variation that explain the observed data.[56]\n",
            "Feature learning is motivated by the fact that machine learning tasks such as classification often require input that is mathematically and computationally convenient to process. However, real-world data such as images, video, and sensory data has not yielded attempts to algorithmically define specific features. An alternative is to discover such features or representations through examination, without relying on explicit algorithms.\n",
            "Sparse dictionary learning is a feature learning method where a training example is represented as a linear combination of basis functions, and is assumed to be a sparse matrix. The method is strongly NP-hard and difficult to solve approximately.[57] A popular heuristic method for sparse dictionary learning is the K-SVD algorithm. Sparse dictionary learning has been applied in several contexts. In classification, the problem is to determine the class to which a previously unseen training example belongs. For a dictionary where each class has already been built, a new training example is associated with the class that is best sparsely represented by the corresponding dictionary. Sparse dictionary learning has also been applied in image de-noising. The key idea is that a clean image patch can be sparsely represented by an image dictionary, but the noise cannot.[58]\n",
            "In data mining, anomaly detection, also known as outlier detection, is the identification of rare items, events or observations which raise suspicions by differing significantly from the majority of the data.[59] Typically, the anomalous items represent an issue such as bank fraud, a structural defect, medical problems or errors in a text. Anomalies are referred to as outliers, novelties, noise, deviations and exceptions.[60]\n",
            "In particular, in the context of abuse and network intrusion detection, the interesting objects are often not rare objects, but unexpected bursts of inactivity. This pattern does not adhere to the common statistical definition of an outlier as a rare object. Many outlier detection methods (in particular, unsupervised algorithms) will fail on such data unless aggregated appropriately. Instead, a cluster analysis algorithm may be able to detect the micro-clusters formed by these patterns.[61]\n",
            "Three broad categories of anomaly detection techniques exist.[62] Unsupervised anomaly detection techniques detect anomalies in an unlabeled test data set under the assumption that the majority of the instances in the data set are normal, by looking for instances that seem to fit the least to the remainder of the data set. Supervised anomaly detection techniques require a data set that has been labeled as \"normal\" and \"abnormal\" and involves training a classifier (the key difference to many other statistical classification problems is the inherently unbalanced nature of outlier detection). Semi-supervised anomaly detection techniques construct a model representing normal behavior from a given normal training data set and then test the likelihood of a test instance to be generated by the model.\n",
            "Robot learning is inspired by a multitude of machine learning methods, starting from supervised learning, reinforcement learning,[63][64] and finally meta-learning (e.g. MAML).\n",
            "Association rule learning is a rule-based machine learning method for discovering relationships between variables in large databases. It is intended to identify strong rules discovered in databases using some measure of \"interestingness\".[65]\n",
            "Rule-based machine learning is a general term for any machine learning method that identifies, learns, or evolves \"rules\" to store, manipulate or apply knowledge. The defining characteristic of a rule-based machine learning algorithm is the identification and utilization of a set of relational rules that collectively represent the knowledge captured by the system. This is in contrast to other machine learning algorithms that commonly identify a singular model that can be universally applied to any instance in order to make a prediction.[66] Rule-based machine learning approaches include learning classifier systems, association rule learning, and artificial immune systems.\n",
            "Based on the concept of strong rules, Rakesh Agrawal, Tomasz Imieliński and Arun Swami introduced association rules for discovering regularities between products in large-scale transaction data recorded by point-of-sale (POS) systems in supermarkets.[67] For example, the rule \n",
            "\n",
            "\n",
            "\n",
            "{\n",
            "\n",
            "o\n",
            "n\n",
            "i\n",
            "o\n",
            "n\n",
            "s\n",
            ",\n",
            "p\n",
            "o\n",
            "t\n",
            "a\n",
            "t\n",
            "o\n",
            "e\n",
            "s\n",
            "\n",
            "}\n",
            "⇒\n",
            "{\n",
            "\n",
            "b\n",
            "u\n",
            "r\n",
            "g\n",
            "e\n",
            "r\n",
            "\n",
            "}\n",
            "\n",
            "\n",
            "{\\displaystyle \\{\\mathrm {onions,potatoes} \\}\\Rightarrow \\{\\mathrm {burger} \\}}\n",
            "\n",
            " found in the sales data of a supermarket would indicate that if a customer buys onions and potatoes together, they are likely to also buy hamburger meat. Such information can be used as the basis for decisions about marketing activities such as promotional pricing or product placements. In addition to market basket analysis, association rules are employed today in application areas including Web usage mining, intrusion detection, continuous production, and bioinformatics. In contrast with sequence mining, association rule learning typically does not consider the order of items either within a transaction or across transactions.\n",
            "Learning classifier systems (LCS) are a family of rule-based machine learning algorithms that combine a discovery component, typically a genetic algorithm, with a learning component, performing either supervised learning, reinforcement learning, or unsupervised learning. They seek to identify a set of context-dependent rules that collectively store and apply knowledge in a piecewise manner in order to make predictions.[68]\n",
            "Inductive logic programming (ILP) is an approach to rule learning using logic programming as a uniform representation for input examples, background knowledge, and hypotheses. Given an encoding of the known background knowledge and a set of examples represented as a logical database of facts, an ILP system will derive a hypothesized logic program that entails all positive and no negative examples. Inductive programming is a related field that considers any kind of programming language for representing hypotheses (and not only logic programming), such as functional programs.\n",
            "Inductive logic programming is particularly useful in bioinformatics and natural language processing. Gordon Plotkin and Ehud Shapiro laid the initial theoretical foundation for inductive machine learning in a logical setting.[69][70][71] Shapiro built their first implementation (Model Inference System) in 1981: a Prolog program that inductively inferred logic programs from positive and negative examples.[72] The term inductive here refers to philosophical induction, suggesting a theory to explain observed facts, rather than mathematical induction, proving a property for all members of a well-ordered set.\n",
            "Performing machine learning can involve creating a model, which is trained on some training data and then can process additional data to make predictions. Various types of models have been used and researched for machine learning systems.\n",
            "Artificial neural networks (ANNs), or connectionist systems, are computing systems vaguely inspired by the biological neural networks that constitute animal brains. Such systems \"learn\" to perform tasks by considering examples, generally without being programmed with any task-specific rules.\n",
            "An ANN is a model based on a collection of connected units or nodes called \"artificial neurons\", which loosely model the neurons in a biological brain. Each connection, like the synapses in a biological brain, can transmit information, a \"signal\", from one artificial neuron to another. An artificial neuron that receives a signal can process it and then signal additional artificial neurons connected to it. In common ANN implementations, the signal at a connection between artificial neurons is a real number, and the output of each artificial neuron is computed by some non-linear function of the sum of its inputs. The connections between artificial neurons are called \"edges\". Artificial neurons and edges typically have a weight that adjusts as learning proceeds. The weight increases or decreases the strength of the signal at a connection. Artificial neurons may have a threshold such that the signal is only sent if the aggregate signal crosses that threshold. Typically, artificial neurons are aggregated into layers. Different layers may perform different kinds of transformations on their inputs. Signals travel from the first layer (the input layer) to the last layer (the output layer), possibly after traversing the layers multiple times.\n",
            "The original goal of the ANN approach was to solve problems in the same way that a human brain would. However, over time, attention moved to performing specific tasks, leading to deviations from biology. Artificial neural networks have been used on a variety of tasks, including computer vision, speech recognition, machine translation, social network filtering, playing board and video games and medical diagnosis.\n",
            "Deep learning consists of multiple hidden layers in an artificial neural network. This approach tries to model the way the human brain processes light and sound into vision and hearing. Some successful applications of deep learning are computer vision and speech recognition.[73]\n",
            "Decision tree learning uses a decision tree as a predictive model to go from observations about an item (represented in the branches) to conclusions about the item's target value (represented in the leaves). It is one of the predictive modeling approaches used in statistics, data mining, and machine learning. Tree models where the target variable can take a discrete set of values are called classification trees; in these tree structures, leaves represent class labels, and branches represent conjunctions of features that lead to those class labels. Decision trees where the target variable can take continuous values (typically real numbers) are called regression trees. In decision analysis, a decision tree can be used to visually and explicitly represent decisions and decision making. In data mining, a decision tree describes data, but the resulting classification tree can be an input for decision-making.\n",
            "Support-vector machines (SVMs), also known as support-vector networks, are a set of related supervised learning methods used for classification and regression. Given a set of training examples, each marked as belonging to one of two categories, an SVM training algorithm builds a model that predicts whether a new example falls into one category.[74]  An SVM training algorithm is a non-probabilistic, binary, linear classifier, although methods such as Platt scaling exist to use SVM in a probabilistic classification setting. In addition to performing linear classification, SVMs can efficiently perform a non-linear classification using what is called the kernel trick, implicitly mapping their inputs into high-dimensional feature spaces.\n",
            "Regression analysis encompasses a large variety of statistical methods to estimate the relationship between input variables and their associated features. Its most common form is linear regression, where a single line is drawn to best fit the given data according to a mathematical criterion such as ordinary least squares. The latter is often extended by regularization methods to mitigate overfitting and bias, as in ridge regression. When dealing with non-linear problems, go-to models include polynomial regression (for example, used for trendline fitting in Microsoft Excel[75]), logistic regression (often used in statistical classification) or even kernel regression, which introduces non-linearity by taking advantage of the kernel trick to implicitly map input variables to higher-dimensional space.\n",
            "A Bayesian network, belief network, or directed acyclic graphical model is a probabilistic graphical model that represents a set of random variables and their conditional independence with a directed acyclic graph (DAG). For example, a Bayesian network could represent the probabilistic relationships between diseases and symptoms. Given symptoms, the network can be used to compute the probabilities of the presence of various diseases. Efficient algorithms exist that perform inference and learning. Bayesian networks that model sequences of variables, like speech signals or protein sequences, are called dynamic Bayesian networks. Generalizations of Bayesian networks that can represent and solve decision problems under uncertainty are called influence diagrams.\n",
            "A Gaussian process is a stochastic process in which every finite collection of the random variables in the process has a multivariate normal distribution, and it relies on a pre-defined covariance function, or kernel, that models how pairs of points relate to each other depending on their locations.\n",
            "Given a set of observed points, or input–output examples, the distribution of the (unobserved) output of a new point as function of its input data can be directly computed by looking like the observed points and the covariances between those points and the new, unobserved point.\n",
            "Gaussian processes are popular surrogate models in Bayesian optimization used to do hyperparameter optimization.\n",
            "A genetic algorithm (GA) is a search algorithm and heuristic technique that mimics the process of natural selection, using methods such as mutation and crossover to generate new genotypes in the hope of finding good solutions to a given problem. In machine learning, genetic algorithms were used in the 1980s and 1990s.[77][78] Conversely, machine learning techniques have been used to improve the performance of genetic and evolutionary algorithms.[79]\n",
            "The theory of belief functions, also referred to as evidence theory or Dempster–Shafer theory, is a general framework for reasoning with uncertainty, with understood connections to other frameworks such as probability, possibility and  imprecise probability theories. These theoretical frameworks can be thought of as a kind of learner and have some analogous properties of how evidence is combined (e.g.,  Dempster's rule of combination), just like how in a pmf-based Bayesian approach would combine probabilities. However, there are many caveats to these beliefs functions when compared to Bayesian approaches in order to incorporate ignorance and Uncertainty quantification. These belief function approaches that are implemented within the machine learning domain typically leverage a fusion approach of various ensemble methods to better handle the learner's decision boundary, low samples, and ambiguous class issues that standard machine learning approach tend to have difficulty resolving.[3][5][10] However, the computational complexity of these algorithms are dependent on the number of propositions (classes), and can lead a much higher computation time when compared to other machine learning approaches.  \n",
            "Typically, machine learning models require a high quantity of reliable data in order for the models to perform accurate predictions. When training a machine learning model, machine learning engineers need to target and collect a large and representative sample of data. Data from the training set can be as varied as a corpus of text, a collection of images, sensor data, and data collected from individual users of a service. Overfitting is something to watch out for when training a machine learning model. Trained models derived from biased or non-evaluated data can result in skewed or undesired predictions. Bias models may result in detrimental outcomes thereby furthering the negative impacts on society or objectives. Algorithmic bias is a potential result of data not being fully prepared for training. Machine learning ethics is becoming a field of study and notably be integrated within machine learning engineering teams.\n",
            "Federated learning is an adapted form of distributed artificial intelligence to training machine learning models that decentralizes the training process, allowing for users' privacy to be maintained by not needing to send their data to a centralized server. This also increases efficiency by decentralizing the training process to many devices. For example, Gboard uses federated machine learning to train search query prediction models on users' mobile phones without having to send individual searches back to Google.[80]\n",
            "There are many applications for machine learning, including:\n",
            "In 2006, the media-services provider Netflix held the first \"Netflix Prize\" competition to find a program to better predict user preferences and improve the accuracy of its existing Cinematch movie recommendation algorithm by at least 10%. A joint team made up of researchers from AT&T Labs-Research in collaboration with the teams Big Chaos and Pragmatic Theory built an ensemble model to win the Grand Prize in 2009 for $1 million.[83] Shortly after the prize was awarded, Netflix realized that viewers' ratings were not the best indicators of their viewing patterns (\"everything is a recommendation\") and they changed their recommendation engine accordingly.[84] In 2010 The Wall Street Journal wrote about the firm Rebellion Research and their use of machine learning to predict the financial crisis.[85] In 2012, co-founder of Sun Microsystems, Vinod Khosla, predicted that 80% of medical doctors jobs would be lost in the next two decades to automated machine learning medical diagnostic software.[86] In 2014, it was reported that a machine learning algorithm had been applied in the field of art history to study fine art paintings and that it may have revealed previously unrecognized influences among artists.[87] In 2019 Springer Nature published the first research book created using machine learning.[88] In 2020, machine learning technology was used to help make diagnoses and aid researchers in developing a cure for COVID-19.[89] Machine learning was recently applied to predict the pro-environmental behavior of travelers.[90] Recently, machine learning technology was also applied to optimize smartphone's performance and thermal behavior based on the user's interaction with the phone.[91][92][93]\n",
            "Although machine learning has been transformative in some fields, machine-learning programs often fail to deliver expected results.[94][95][96] Reasons for this are numerous: lack of (suitable) data, lack of access to the data, data bias, privacy problems, badly chosen tasks and algorithms, wrong tools and people, lack of resources, and evaluation problems.[97]\n",
            "In 2018, a self-driving car from Uber failed to detect a pedestrian, who was killed after a collision.[98] Attempts to use machine learning in healthcare with the IBM Watson system failed to deliver even after years of time and billions of dollars invested.[99][100]\n",
            "Machine learning has been used as a strategy to update the evidence related to a systematic review and increased reviewer burden related to the growth of biomedical literature. While it has improved with training sets, it has not yet developed sufficiently to reduce the workload burden without limiting the necessary sensitivity for the findings research themselves.[101]\n",
            "Machine learning approaches in particular can suffer from different data biases. A machine learning system trained specifically on current customers may not be able to predict the needs of new customer groups that are not represented in the training data. When trained on human-made data, machine learning is likely to pick up the constitutional and unconscious biases already present in society.[102] Language models learned from data have been shown to contain human-like biases.[103][104] Machine learning systems used for criminal risk assessment have been found to be biased against black people.[105][106] In 2015, Google photos would often tag black people as gorillas,[107] and in 2018 this still was not well resolved, but Google reportedly was still using the workaround to remove all gorillas from the training data, and thus was not able to recognize real gorillas at all.[108] Similar issues with recognizing non-white people have been found in many other systems.[109] In 2016, Microsoft tested a chatbot that learned from Twitter, and it quickly picked up racist and sexist language.[110] Because of such challenges, the effective use of machine learning may take longer to be adopted in other domains.[111] Concern for fairness in machine learning, that is, reducing bias in machine learning and propelling its use for human good is increasingly expressed by artificial intelligence scientists, including Fei-Fei Li, who reminds engineers that \"There's nothing artificial about AI...It's inspired by people, it's created by people, and—most importantly—it impacts people. It is a powerful tool we are only just beginning to understand, and that is a profound responsibility.\"[112]\n",
            "Explainable AI (XAI), or Interpretable AI, or Explainable Machine Learning (XML), is artificial intelligence (AI) in which humans can understand the decisions or predictions made by the AI.[113] It contrasts with the \"black box\" concept in machine learning where even its designers cannot explain why an AI arrived at a specific decision.[114] By refining the mental models of users of AI-powered systems and dismantling their misconceptions, XAI promises to help users perform more effectively. XAI may be an implementation of the social right to explanation.\n",
            "Settling on a bad, overly complex theory gerrymandered to fit all the past training data is known as overfitting. Many systems attempt to reduce overfitting by rewarding a theory in accordance with how well it fits the data but penalizing the theory in accordance with how complex the theory is.[115]\n",
            "Learners can also disappoint by \"learning the wrong lesson\". A toy example is that an image classifier trained only on pictures of brown horses and black cats might conclude that all brown patches are likely to be horses.[116] A real-world example is that, unlike humans, current image classifiers often do not primarily make judgments from the spatial relationship between components of the picture, and they learn relationships between pixels that humans are oblivious to, but that still correlate with images of certain types of real objects. Modifying these patterns on a legitimate image can result in \"adversarial\" images that the system misclassifies.[117][118]\n",
            "Adversarial vulnerabilities can also result in nonlinear systems, or from non-pattern perturbations. Some systems are so brittle that changing a single adversarial pixel predictably induces misclassification.[citation needed] Machine learning models are often vulnerable to manipulation and/or evasion via adversarial machine learning.[119]\n",
            "Researchers have demonstrated how backdoors can be placed undetectably into classifying (e.g., for categories \"spam\" and well-visible \"not spam\" of posts) machine learning models which are often developed and/or trained by third parties. Parties can change the classification of any input, including in cases for which a type of data/software transparency is provided, possibly including white-box access.[120][121][122]\n",
            "Classification of machine learning models can be validated by accuracy estimation techniques like the holdout method, which splits the data in a training and test set (conventionally 2/3 training set and 1/3 test set designation) and evaluates the performance of the training model on the test set. In comparison, the K-fold-cross-validation method randomly partitions the data into K subsets and then K experiments are performed each respectively considering 1 subset for evaluation and the remaining K-1 subsets for training the model. In addition to the holdout and cross-validation methods, bootstrap, which samples n instances with replacement from the dataset, can be used to assess model accuracy.[123]\n",
            "In addition to overall accuracy, investigators frequently report sensitivity and specificity meaning True Positive Rate (TPR) and True Negative Rate (TNR) respectively. Similarly, investigators sometimes report the false positive rate (FPR) as well as the false negative rate (FNR). However, these rates are ratios that fail to reveal their numerators and denominators. The total operating characteristic (TOC) is an effective method to express a model's diagnostic ability. TOC shows the numerators and denominators of the previously mentioned rates, thus TOC provides more information than the commonly used receiver operating characteristic (ROC) and ROC's associated area under the curve (AUC).[124]\n",
            "Machine learning poses a host of ethical questions. Systems that are trained on datasets collected with biases may exhibit these biases upon use (algorithmic bias), thus digitizing cultural prejudices.[125] For example, in 1988, the UK's Commission for Racial Equality found that St. George's Medical School had been using a computer program trained from data of previous admissions staff and this program had denied nearly 60 candidates who were found to be either women or had non-European sounding names.[102] Using job hiring data from a firm with racist hiring policies may lead to a machine learning system duplicating the bias by scoring job applicants by similarity to previous successful applicants.[126][127] Responsible collection of data and documentation of algorithmic rules used by a system thus is a critical part of machine learning.\n",
            "AI can be well-equipped to make decisions in technical fields, which rely heavily on data and historical information. These decisions rely on objectivity and logical reasoning.[128] Because human languages contain biases, machines trained on language corpora will necessarily also learn these biases.[129][130]\n",
            "Other forms of ethical challenges, not related to personal biases, are seen in health care. There are concerns among health care professionals that these systems might not be designed in the public's interest but as income-generating machines.[131] This is especially true in the United States where there is a long-standing ethical dilemma of improving health care, but also increasing profits. For example, the algorithms could be designed to provide patients with unnecessary tests or medication in which the algorithm's proprietary owners hold stakes. There is potential for machine learning in health care to provide professionals an additional tool to diagnose, medicate, and plan recovery paths for patients, but this requires these biases to be mitigated.[132]\n",
            "Since the 2010s, advances in both machine learning algorithms and computer hardware have led to more efficient methods for training deep neural networks (a particular narrow subdomain of machine learning) that contain many layers of non-linear hidden units.[133] By 2019, graphic processing units (GPUs), often with AI-specific enhancements, had displaced CPUs as the dominant method of training large-scale commercial cloud AI.[134] OpenAI estimated the hardware computing used in the largest deep learning projects from AlexNet (2012) to AlphaZero (2017), and found a 300,000-fold increase in the amount of compute required, with a doubling-time trendline of 3.4 months.[135][136]\n",
            "A physical neural network or Neuromorphic computer  is a type of artificial neural network in which an electrically adjustable material is used to emulate the function of a neural synapse. \"Physical\" neural network is used to emphasize the reliance on physical hardware used to emulate neurons as opposed to software-based approaches. More generally the term is applicable to other artificial neural networks in which a memristor or other electrically adjustable resistance material is used to emulate a neural synapse.[137][138]\n",
            "Embedded Machine Learning is a sub-field of machine learning, where the machine learning model is run on embedded systems with limited computing resources such as wearable computers, edge devices and microcontrollers.[139][140][141] Running machine learning model in embedded devices removes the need for transferring and storing data on cloud servers for further processing, henceforth, reducing data breaches and privacy leaks happening because of transferring data, and also minimizes theft of intellectual properties, personal data and business secrets. Embedded Machine Learning could be applied through several techniques including hardware acceleration,[142][143] using approximate computing,[144] optimization of machine learning models and many more.[145][146]\n",
            "Software suites containing a variety of machine learning algorithms include the following:\n",
            "\n"
          ]
        }
      ],
      "source": [
        "print(article_text)"
      ]
    },
    {
      "cell_type": "markdown",
      "metadata": {
        "id": "7PyVmX0GM59c"
      },
      "source": [
        "**Instead of lengthy text on wiki, we can try for a small text as well**"
      ]
    },
    {
      "cell_type": "code",
      "execution_count": 5,
      "metadata": {
        "id": "5dF6PT-8L3pt"
      },
      "outputs": [],
      "source": [
        "sentences=\"\"\"Alice 23 opened the door and found that it led into a small 90\n",
        "passage, not much larger than a rat-hole:  she knelt down and\n",
        "looked along the passage into the loveliest garden you ever saw.\n",
        "How she longed to get out of that dark hall, and wander about\n",
        "among those beds of bright flowers and those cool fountains, but\n",
        "she could not even get her head through the doorway; `and even if\n",
        "my head would go through,' (thought) $poor Alice, `it would be of\n",
        "very little use without my shoulders.  Oh, how I wish\n",
        "I could shut up like a telescope!  I think I could, if I only\n",
        "know how to begin.'  For, you see, so many out-of-the-way things\n",
        "had happened lately, that Alice had begun to think that very few\n",
        "things indeed were really impossible.\n",
        "\n",
        "  \n",
        "\"\"\""
      ]
    },
    {
      "cell_type": "code",
      "execution_count": 6,
      "metadata": {
        "colab": {
          "base_uri": "https://localhost:8080/"
        },
        "id": "RG1CRWQ5exmh",
        "outputId": "683e1f3e-c0de-4c32-fdfa-a555a35185a3"
      },
      "outputs": [
        {
          "name": "stdout",
          "output_type": "stream",
          "text": [
            "Alice 23 opened the door and found that it led into small 90 passage not much larger than rat hole she knelt down and looked along the passage into the loveliest garden you ever saw How she longed to get out of that dark hall and wander about among those beds of bright flowers and those cool fountains but she could not even get her head through the doorway and even if my head would go through thought poor Alice it would be of very little use without my shoulders Oh how wish could shut up like telescope think could if only know how to begin For you see so many out of the way things had happened lately that Alice had begun to think that very few things indeed were really impossible\n"
          ]
        }
      ],
      "source": [
        "sentences = re.sub('[^A-Za-z0-9]+', ' ', sentences)\n",
        "sentences = re.sub(r'(?:^| )\\w(?:$| )', ' ', sentences).strip()\n",
        "print(sentences)"
      ]
    },
    {
      "cell_type": "markdown",
      "metadata": {
        "id": "FBvdzrjHRMgL"
      },
      "source": [
        "# Step 1(b) : Prepare Dataset\n",
        "1. Remove all special characters and digits\n",
        "2. Remove all punctuation marks\n",
        "3. bring all letters to lower case\n",
        "4. Tokenize the document into sentences and words\n",
        "5. Remove all stop words.\n",
        "\n",
        "#Step 2: Generate Training Data"
      ]
    },
    {
      "cell_type": "code",
      "execution_count": 29,
      "metadata": {
        "id": "dW9yG8ZnOJ1e"
      },
      "outputs": [],
      "source": [
        "# remove special characters\n",
        "sentences = re.sub('[^A-Za-z]+', ' ', sentences)\n",
        "\n",
        "# remove 1 letter words\n",
        "sentences = re.sub(r'(?:^| )\\w(?:$| )', ' ', sentences).strip()\n",
        "\n",
        "# lower all characters\n",
        "sentences = sentences.lower()\n",
        "\n",
        "all_sent=nltk.sent_tokenize(sentences)\n",
        "all_words=[nltk.word_tokenize(sent) for sent in all_sent]\n",
        "\n",
        "from nltk.corpus import stopwords\n",
        "for i in range(len(all_words)):\n",
        "  all_words[i]=[w for w in all_words[i] if w not in stopwords.words('english')]\n",
        "data =all_words\n",
        "data1=data[0]"
      ]
    },
    {
      "cell_type": "code",
      "execution_count": 30,
      "metadata": {
        "colab": {
          "base_uri": "https://localhost:8080/"
        },
        "id": "Yhb8s8GVPpvw",
        "outputId": "85cbe67d-de12-4640-a0eb-ed3da86359c9"
      },
      "outputs": [],
      "source": [
        "model1 = gensim.models.Word2Vec(data, min_count = 1,vector_size = 52, window = 5)"
      ]
    },
    {
      "cell_type": "code",
      "execution_count": 31,
      "metadata": {
        "colab": {
          "base_uri": "https://localhost:8080/"
        },
        "id": "mPXorL1zPxne",
        "outputId": "e88de8ff-084d-411a-ab64-2fa15c32699a"
      },
      "outputs": [
        {
          "name": "stdout",
          "output_type": "stream",
          "text": [
            "['learning', 'machine', 'data', 'training', 'model', 'algorithms', 'used', 'set', 'artificial', 'models', 'methods', 'systems', 'based', 'also', 'ai', 'classification', 'example', 'supervised', 'algorithm', 'field', 'neural', 'examples', 'input', 'many', 'theory', 'often', 'one', 'unsupervised', 'networks', 'knowledge', 'using', 'may', 'process', 'analysis', 'function', 'called', 'computer', 'decision', 'network', 'problems', 'trained', 'system', 'techniques', 'time', 'features', 'performance', 'approaches', 'feature', 'mining', 'tasks', 'variables', 'known', 'perform', 'regression', 'predictions', 'rule', 'related', 'method', 'non', 'research', 'statistical', 'statistics', 'represented', 'new', 'learn', 'learned', 'inputs', 'detection', 'typically', 'dictionary', 'linear', 'biases', 'intelligence', 'output', 'programming', 'optimization', 'rules', 'mathematical', 'including', 'signal', 'reinforcement', 'use', 'neurons', 'make', 'like', 'approach', 'two', 'bayesian', 'class', 'bias', 'found', 'given', 'applied', 'large', 'human', 'deep', 'without', 'dimensional', 'environment', 'logic', 'genetic', 'represent', 'study', 'decisions', 'machines', 'patterns', 'sparse', 'tree', 'medical', 'however', 'information', 'different', 'representation', 'specific', 'g', 'include', 'people', 'probabilistic', 'would', 'well', 'accuracy', 'test', 'generalization', 'goal', 'complexity', 'labels', 'predict', 'addition', 'image', 'negative', 'inductive', 'within', 'program', 'various', 'labeled', 'order', 'real', 'researchers', 'self', 'language', 'thus', 'computational', 'recognition', 'speech', 'performing', 'results', 'users', 'either', 'space', 'previously', 'anomaly', 'algorithmic', 'take', 'discovery', 'similarity', 'theoretical', 'vision', 'functions', 'developed', 'classifier', 'normal', 'probability', 'higher', 'observations', 'computing', 'term', 'cluster', 'overfitting', 'vector', 'instances', 'component', 'pre', 'distribution', 'points', 'software', 'behavior', 'layers', 'area', 'learner', 'task', 'positive', 'result', 'pattern', 'association', 'reducing', 'context', 'able', 'first', 'leading', 'principal', 'loss', 'processing', 'problem', 'matrix', 'applications', 'target', 'objects', 'outputs', 'number', 'manifold', 'reduction', 'recommendation', 'kernel', 'dimensionality', 'attempt', 'categories', 'provided', 'hardware', 'identify', 'representations', 'complex', 'nature', 'learns', 'low', 'predictive', 'best', 'brain', 'health', 'care', 'concerned', 'black', 'built', 'way', 'layer', 'rate', 'logical', 'previous', 'common', 'images', 'evaluated', 'ml', 'observed', 'polynomial', 'fit', 'unknown', 'clusters', 'particular', 'embedded', 'adversarial', 'associated', 'sets', 'hypothesis', 'experience', 'require', 'instead', 'collection', 'random', 'definition', 'properties', 'caa', 'outlier', 'although', 'considered', 'popular', 'sometimes', 'changing', 'allows', 'difference', 'likely', 'types', 'situations', 'application', 'line', 'email', 'step', 'databases', 'uses', 'units', 'improve', 'connection', 'google', 'separate', 'neuron', 'physical', 'key', 'made', 'netflix', 'ability', 'prediction', 'ann', 'biological', 'programs', 'science', 'contains', 'toc', 'lack', 'general', 'three', 'emulate', 'variety', 'privacy', 'certain', 'trees', 'high', 'additional', 'devices', 'limited', 'accurate', 'values', 'fail', 'even', 'defined', 'evidence', 'respect', 'subsets', 'rather', 'terms', 'graph', 'generally', 'future', 'detect', 'exist', 'according', 'least', 'scale', 'generating', 'density', 'weight', 'items', 'rare', 'belief', 'signals', 'explain', 'effective', 'recognize', 'underlying', 'representative', 'book', 'multiple', 'true', 'contrast', 'interest', 'could', 'solve', 'modeling', 'unlabeled', 'report', 'fold', 'ethical', 'inspired', 'prize', 'potential', 'lead', 'current', 'clustering', 'samples', 'uncertainty', 'unseen', 'point', 'characteristic', 'symbolic', 'several', 'similar', 'svm', 'discovering', 'xai', 'better', 'recently', 'reasoning', 'value', 'relationships', 'fields', 'train', 'humans', 'finding', 'gorillas', 'still', 'especially', 'contain', 'support', 'graphical', 'acyclic', 'finite', 'variable', 'crossbar', 'directed', 'sequences', 'paradigms', 'efficient', 'diseases', 'making', 'symptoms', 'advice', 'compute', 'probabilities', 'less', 'assumption', 'svms', 'cases', 'emotions', 'build', 'processes', 'produce', 'trick', 'implicitly', 'consequence', 'go', 'item', 'extended', 'branches', 'relationship', 'hidden', 'sufficiently', 'form', 'objective', 'single', 'social', 'via', 'leaves', 'derived', 'external', 'combined', 'adopted', 'regularization', 'approximately', 'trendline', 'possibly', 'successful', 'microsoft', 'physics', 'game', 'bounds', 'mdp', 'text', 'anomalies', 'referred', 'deviations', 'genome', 'intrusion', 'engineering', 'aggregated', 'exact', 'looking', 'domains', 'encompasses', 'estimation', 'necessarily', 'representing', 'instance', 'technique', 'presence', 'commonalities', 'useful', 'strong', 'store', 'apply', 'collectively', 'commonly', 'dynamic', 'forms', 'find', 'drawn', 'actions', 'world', 'level', 'video', 'resulting', 'discover', 'attempts', 'imprecise', 'combination', 'directly', 'basis', 'amount', 'heuristic', 'yet', 'already', 'sparsely', 'meaning', 'falls', 'semi', 'estimated', 'noise', 'constraint', 'identification', 'members', 'majority', 'structure', 'concept', 'threshold', 'following', 'depending', 'broad', 'kind', 'natural', 'classes', 'shapiro', 'show', 'setting', 'implementation', 'inference', 'kinds', 'induction', 'computation', 'decreases', 'increased', 'emotion', 'along', 'considering', 'connected', 'interaction', 'error', 'computed', 'connections', 'edges', 'increases', 'facts', 'feedback', 'verification', 'original', 'transaction', 'aim', 'dimension', 'mathrm', 'onions', 'potatoes', 'customer', 'initial', 'receives', 'part', 'determine', 'pca', 'behavioral', 'array', 'continuous', 'involves', 'bioinformatics', 'smaller', 'consists', 'desired', 'combine', 'dependent', 'ilp', 'background', 'hypotheses', 'situation', 'introduced', 'brown', 'firm', 'studied', 'memory', 'challenges', 'racist', 'analyze', 'much', 'white', 'focuses', 'said', 'significantly', 'perceptrons', 'spam', 'roc', 'diagnostic', 'toward', 'parties', 'early', 'assumptions', 'federated', 'outside', 'send', 'tool', 'rely', 'ibm', 'defining', 'due', 'applicants', 'hiring', 'measure', 'job', 'fei', 'computers', 'kdd', 'improves', 'user', 'usually', 'art', 'teacher', 'equipped', 'come', 'dealing', 'deliver', 'cross', 'mostly', 'access', 'disciplines', 'continued', 'wrong', 'employed', 'resources', 'evaluation', 'burden', 'respectively', 'failed', 'validation', 'work', 'investigators', 'reduce', 'practical', 'false', 'type', 'automated', 'diagnosis', 'increasing', 'operating', 'among', 'denominators', 'created', 'technology', 'help', 'changed', 'numerators', 'sensitivity', 'rates', 'holdout', 'express', 'teaching', 'topic', 'frameworks', 'synapse', 'history', 'provide', 'issues', 'tools', 'patients', 'question', 'closely', 'might', 'material', 'business', 'ensemble', 'across', 'adjustable', 'good', 'box', 'overall', 'call', 'sample', 'teams', 'electrically', 'moles', 'compared', 'classifying', 'needed', 'meta', 'outcomes', 'active', 'classify', 'generalize', 'biased', 'gaussian', 'understand', 'long', 'filtering', 'society', 'impacts', 'horses', 'effectively', 'dempster', 'personal', 'unobserved', 'explainable', 'correctly', 'cloud', 'name', 'individual', 'transferring', 'collected', 'explicit', 'objectives', 'professionals', 'designed', 'accordance', 'search', 'need', 'engineers', 'suitable', 'selection', 'connectivity', 'follows', 'letters', 'characters', 'completely', 'strategies', 'replaced', 'missing', 'summarizing', 'explaining', 'paper', 'digits', 'haplotypes', 'predesignated', 'survey', 'turing', 'measured', 'indel', 'offers', 'fundamentally', 'separation', 'gene', 'assignment', 'operational', 'cognitive', 'pan', 'alan', 'criteria', 'dissimilar', 'formal', 'quoted', 'widely', 'metric', 'internal', 'compactness', 'mitchell', 'proposal', 'tom', 'terminal', 'symbols', 'special', 'machinery', 'streamlined', 'think', 'hart', 'ultimate', 'duda', 'consideration', 'elimination', 'important', 'words', 'obtaining', 'source', 'coined', 'arthur', 'samuel', 'employee', 'experimental', 'pioneer', 'gaming', 'synonym', 'opponent', 'period', 'play', 'vehicles', 'autonomous', 'extraction', 'statistically', 'analytics', 'exploratory', 'categorization', 'development', 'neatly', 'instructions', 'generative', 'surpass', 'manifolds', 'agriculture', 'lie', 'medicine', 'proposes', 'costly', 'develop', 'foundations', 'keeping', 'parallel', 'focusing', 'infeasible', 'assume', 'described', 'larger', 'maximize', 'goof', 'button', 'ought', 'agents', 'cause', 'evaluate', 'incorrect', 'nilsson', 'punched', 'obtain', 'cheaper', 'noisy', 'weakly', 'improvement', 'considerable', 'small', 'conjunction', 'notion', 'cumulative', 'reward', 'generality', 'tape', 'reinforcements', 'cybertron', 'raytheon', 'company', 'sonar', 'markov', 'electrocardiograms', 'rudimentary', 'repetitively', 'swarm', 'agent', 'multi', 'simulation', 'operator', 'operations', 'involving', 'control', 'face', 'thinking', 'outperformed', 'comes', 'basic', 'quite', 'reproduce', 'guarantees', 'yield', 'uncertain', 'uninformed', 'easily', 'typical', 'major', 'pac', 'correct', 'probably', 'unavailability', 'intimate', 'ties', 'branch', 'formulated', 'minimization', 'exception', 'variance', 'entities', 'goals', 'inherited', 'subject', 'response', 'borrowed', 'fitted', 'fuzzy', 'match', 'employ', 'overlap', 'hand', 'pkdd', 'employs', 'preprocessing', 'confusion', 'communities', 'quantify', 'conferences', 'journals', 'decomposition', 'ecml', 'enables', 'discrepancy', 'actual', 'analyses', 'rooted', 'analytical', 'suggested', 'statisticians', 'forest', 'placeholder', 'means', 'wherein', 'conventional', 'priori', 'wants', 'significant', 'theoretically', 'distinguished', 'breiman', 'relevant', 'included', 'structured', 'shape', 'detecting', 'principles', 'methodological', 'ideas', 'disordered', 'assign', 'occurrences', 'label', 'assigned', 'arises', 'minimize', 'experienced', 'minimizing', 'accurately', 'characterizing', 'core', 'diagnostics', 'distinct', 'draws', 'population', 'inferences', 'finds', 'generalizable', 'michael', 'poorer', 'theorists', 'feasibility', 'interested', 'quest', 'days', 'academic', 'speaker', 'discipline', 'leo', 'tracking', 'identity', 'visual', 'ranking', 'filters', 'attempted', 'termed', 'measures', 'file', 'folder', 'incoming', 'later', 'reinventions', 'generalized', 'grouping', 'grew', 'endeavor', 'scientific', 'modern', 'though', 'day', 'central', 'piece', 'purpose', 'absence', 'react', 'hypothetical', 'coupled', 'cancerous', 'stock', 'responding', 'categorized', 'classified', 'trading', 'inform', 'trader', 'therefore', 'emails', 'range', 'away', 'reorganized', 'correspond', 'main', 'success', 'came', 'mid', 'reinvention', 'divided', 'backpropagation', 'traditionally', 'recognized', 'numerical', 'started', 'flourish', 'achieving', 'tackling', 'solvable', 'shifted', 'done', 'focus', 'feasible', 'hinton', 'rumelhart', 'hopfield', 'available', 'emphasis', 'restricted', 'caused', 'rift', 'plagued', 'optimal', 'acquisition', 'iterative', 'expert', 'dominate', 'favor', 'continue', 'supervisory', 'proper', 'retrieval', 'abandoned', 'around', 'cs', 'connectionism', 'jordan', 'containing', 'paradigm', 'tested', 'suffer', 'specifically', 'customers', 'needs', 'groups', 'pick', 'constitutional', 'unconscious', 'present', 'shown', 'criminal', 'risk', 'assessment', 'photos', 'tag', 'resolved', 'reportedly', 'workaround', 'remove', 'findings', 'necessary', 'limiting', 'invested', 'pedestrian', 'killed', 'collision', 'healthcare', 'watson', 'years', 'billions', 'dollars', 'strategy', 'workload', 'update', 'systematic', 'review', 'reviewer', 'growth', 'biomedical', 'literature', 'improved', 'recognizing', 'chatbot', 'car', 'twitter', 'arrived', 'refining', 'mental', 'powered', 'dismantling', 'misconceptions', 'promises', 'right', 'explanation', 'settling', 'bad', 'overly', 'gerrymandered', 'past', 'rewarding', 'fits', 'penalizing', 'learners', 'disappoint', 'designers', 'contrasts', 'xml', 'expressed', 'quickly', 'picked', 'sexist', 'longer', 'concern', 'fairness', 'propelling', 'increasingly', 'scientists', 'interpretable', 'li', 'reminds', 'nothing', 'importantly', 'powerful', 'beginning', 'profound', 'responsibility', 'uber', 'driving', 'toy', 'street', 'team', 'labs', 'collaboration', 'big', 'chaos', 'pragmatic', 'win', 'grand', 'million', 'shortly', 'awarded', 'realized', 'viewers', 'ratings', 'indicators', 'viewing', 'everything', 'engine', 'accordingly', 'joint', 'movie', 'cinematch', 'mobile', 'maintained', 'needing', 'centralized', 'server', 'efficiency', 'decentralizing', 'gboard', 'query', 'phones', 'existing', 'searches', 'back', 'media', 'services', 'provider', 'held', 'competition', 'preferences', 'wall', 'journal', 'chosen', 'wrote', 'springer', 'published', 'diagnoses', 'aid', 'developing', 'cure', 'covid', 'pro', 'environmental', 'travelers', 'optimize', 'smartphone', 'thermal', 'phone', 'transformative', 'expected', 'reasons', 'numerous', 'badly', 'artists', 'influences', 'unrecognized', 'khosla', 'rebellion', 'financial', 'crisis', 'co', 'founder', 'sun', 'microsystems', 'vinod', 'predicted', 'revealed', 'doctors', 'jobs', 'lost', 'next', 'decades', 'reported', 'fine', 'paintings', 'lesson', 'pictures', 'capable', 'narrow', 'dilemma', 'improving', 'profits', 'unnecessary', 'tests', 'medication', 'proprietary', 'owners', 'hold', 'stakes', 'diagnose', 'medicate', 'plan', 'recovery', 'paths', 'requires', 'mitigated', 'since', 'advances', 'standing', 'states', 'united', 'critical', 'european', 'sounding', 'names', 'policies', 'duplicating', 'scoring', 'responsible', 'documentation', 'technical', 'income', 'heavily', 'historical', 'objectivity', 'languages', 'corpora', 'seen', 'concerns', 'public', 'led', 'subdomain', 'candidates', 'graphic', 'sub', 'run', 'wearable', 'edge', 'microcontrollers', 'running', 'removes', 'storing', 'servers', 'henceforth', 'breaches', 'leaks', 'happening', 'minimizes', 'theft', 'intellectual', 'secrets', 'acceleration', 'approximate', 'resistance', 'memristor', 'applicable', 'projects', 'gpus', 'enhancements', 'displaced', 'cpus', 'dominant', 'commercial', 'openai', 'largest', 'alexnet', 'opposed', 'alphazero', 'increase', 'required', 'doubling', 'months', 'neuromorphic', 'emphasize', 'reliance', 'women', 'nearly', 'cats', 'randomly', 'misclassification', 'citation', 'vulnerable', 'manipulation', 'evasion', 'demonstrated', 'backdoors', 'placed', 'undetectably', 'visible', 'posts', 'third', 'change', 'transparency', 'validated', 'splits', 'conventionally', 'designation', 'evaluates', 'induces', 'predictably', 'pixel', 'picture', 'conclude', 'patches', 'unlike', 'classifiers', 'primarily', 'judgments', 'spatial', 'components', 'pixels', 'brittle', 'oblivious', 'correlate', 'modifying', 'legitimate', 'misclassifies', 'vulnerabilities', 'nonlinear', 'perturbations', 'comparison', 'partitions', 'denied', 'experiments', 'auc', 'poses', 'host', 'questions', 'datasets', 'exhibit', 'upon', 'digitizing', 'cultural', 'prejudices', 'uk', 'commission', 'racial', 'equality', 'st', 'george', 'school', 'admissions', 'staff', 'curve', 'receiver', 'provides', 'specificity', 'performed', 'subset', 'remaining', 'bootstrap', 'replacement', 'dataset', 'assess', 'frequently', 'tpr', 'mentioned', 'tnr', 'similarly', 'fpr', 'fnr', 'ratios', 'reveal', 'total', 'shows', 'allowing', 'decentralizes', 'distributed', 'captured', 'remainder', 'abnormal', 'inherently', 'unbalanced', 'construct', 'likelihood', 'generated', 'robot', 'multitude', 'starting', 'finally', 'maml', 'intended', 'discovered', 'interestingness', 'identifies', 'evolves', 'manipulate', 'utilization', 'seem', 'formed', 'micro', 'novelties', 'anomalous', 'issue', 'bank', 'fraud', 'structural', 'defect', 'errors', 'outliers', 'exceptions', 'appropriately', 'abuse', 'interesting', 'unexpected', 'bursts', 'inactivity', 'adhere', 'object', 'unless', 'relational', 'singular', 'suspicions', 'universally', 'indicate', 'buys', 'together', 'buy', 'hamburger', 'meat', 'marketing', 'activities', 'promotional', 'pricing', 'product', 'placements', 'market', 'basket', 'today', 'areas', 'web', 'usage', 'production', 'supermarket', 'sales', 'burger', 'regularities', 'immune', 'rakesh', 'agrawal', 'tomasz', 'imieli', 'ski', 'arun', 'swami', 'products', 'rightarrow', 'recorded', 'sale', 'pos', 'supermarkets', 'n', 'u', 'r', 'displaystyle', 'differing', 'raise', 'adapted', 'factorization', 'encountered', 'receiving', 'species', 'seeking', 'desirable', 'undesirable', 'classic', 'preserve', 'transform', 'makes', 'reconstruction', 'coming', 'faithful', 'configurations', 'implausible', 'replaces', 'manual', 'multilayer', 'independent', 'initially', 'wherefrom', 'behaves', 'updates', 'named', 'adaptive', 'rewards', 'computes', 'fashion', 'feelings', 'driven', 'cognition', 'w', 'environments', 'iteration', 'executes', 'routine', 'action', 'neither', 'backpropagated', 'secondary', 'exists', 'autoencoders', 'coding', 'events', 'zeros', 'algorithmically', 'define', 'alternative', 'examination', 'relying', 'assumed', 'strongly', 'np', 'hard', 'difficult', 'svd', 'contexts', 'belongs', 'corresponding', 'de', 'noising', 'idea', 'clean', 'suites', 'yielded', 'sensory', 'convenient', 'abstract', 'multilinear', 'subspace', 'tensor', 'multidimensional', 'reshaping', 'vectors', 'levels', 'hierarchy', 'lower', 'computationally', 'argued', 'intelligent', 'disentangles', 'factors', 'variation', 'motivated', 'fact', 'mathematically', 'sequence', 'consider', 'transactions', 'framework', 'multivariate', 'relies', 'covariance', 'pairs', 'relate', 'locations', 'covariances', 'surrogate', 'hyperparameter', 'ga', 'mimics', 'mutation', 'crossover', 'generate', 'genotypes', 'hope', 'solutions', 'conversely', 'evolutionary', 'every', 'stochastic', 'diagrams', 'linearity', 'squares', 'latter', 'mitigate', 'ridge', 'fitting', 'excel', 'logistic', 'introduces', 'taking', 'influence', 'advantage', 'map', 'represents', 'conditional', 'independence', 'dag', 'protein', 'generalizations', 'shafer', 'understood', 'lcs', 'possibility', 'reliable', 'collect', 'varied', 'corpus', 'sensor', 'service', 'something', 'watch', 'skewed', 'undesired', 'detrimental', 'thereby', 'furthering', 'fully', 'prepared', 'ethics', 'becoming', 'notably', 'integrated', 'quantity', 'propositions', 'resolving', 'quantification', 'theories', 'thought', 'analogous', 'pmf', 'caveats', 'beliefs', 'incorporate', 'ignorance', 'implemented', 'difficulty', 'domain', 'leverage', 'fusion', 'handle', 'boundary', 'ambiguous', 'standard', 'tend', 'ordinary', 'criterion', 'estimate', 'spaces', 'philosophical', 'suggesting', 'proving', 'property', 'ordered', 'involve', 'creating', 'researched', 'anns', 'connectionist', 'vaguely', 'constitute', 'animal', 'brains', 'programmed', 'nodes', 'loosely', 'synapses', 'transmit', 'refers', 'inferred', 'inductively', 'hypothesized', 'family', 'seek', 'piecewise', 'manner', 'uniform', 'encoding', 'database', 'derive', 'entails', 'prolog', 'considers', 'functional', 'particularly', 'gordon', 'plotkin', 'ehud', 'laid', 'foundation', 'another', 'implementations', 'sum', 'belonging', 'discrete', 'structures', 'conjunctions', 'numbers', 'visually', 'explicitly', 'describes', 'marked', 'builds', 'hearing', 'predicts', 'whether', 'category', 'binary', 'platt', 'scaling', 'efficiently', 'mapping', 'conclusions', 'sound', 'adjusts', 'traversing', 'proceeds', 'strength', 'sent', 'aggregate', 'crosses', 'transformations', 'travel', 'last', 'times', 'light', 'attention', 'moved', 'biology', 'translation', 'playing', 'board', 'games', 'tries', 'patch']\n"
          ]
        }
      ],
      "source": [
        "vocabulary = model1.wv.key_to_index\n",
        "print(list(vocabulary.keys()))\n"
      ]
    },
    {
      "cell_type": "code",
      "execution_count": 34,
      "metadata": {
        "colab": {
          "base_uri": "https://localhost:8080/"
        },
        "id": "tZaXa56bP1Ew",
        "outputId": "0735dfbb-dfb7-4087-e310-9b8bc98c7a2a"
      },
      "outputs": [
        {
          "name": "stdout",
          "output_type": "stream",
          "text": [
            "('goal', 0.5126546025276184)\n",
            "('increasing', 0.4733714759349823)\n",
            "('neural', 0.4397675096988678)\n",
            "('construct', 0.4368426501750946)\n",
            "('arrived', 0.42398664355278015)\n",
            "('directed', 0.4057287871837616)\n",
            "('success', 0.39649903774261475)\n",
            "('comes', 0.3925929069519043)\n",
            "('target', 0.376736581325531)\n",
            "('uber', 0.37018823623657227)\n"
          ]
        }
      ],
      "source": [
        "wrd='time'\n",
        "#wrd=['subset','machine', 'learning','closely','related']\n",
        "v1=model1.wv[wrd]\n",
        "similar_words=model1.wv.most_similar(wrd)\n",
        "for x in similar_words:\n",
        "  print(x)"
      ]
    },
    {
      "cell_type": "code",
      "execution_count": 44,
      "metadata": {
        "colab": {
          "base_uri": "https://localhost:8080/"
        },
        "id": "Mioc8q4xv05L",
        "outputId": "90179f0e-8701-4c41-fa97-7f952f3a8ccc"
      },
      "outputs": [],
      "source": [
        "\n",
        "\n",
        "dat = []\n",
        "for i in range(1, len(data1)):\n",
        "    context = [data1[i - 2], data1[i - 1], data1[i+1], data1[i + 2]]\n",
        "    target = data1[i]\n",
        "    dat.append((context, target))\n",
        "    print(dat)\n",
        "\n",
        "#print(dat[1][0])"
      ]
    },
    {
      "cell_type": "code",
      "execution_count": 37,
      "metadata": {
        "colab": {
          "base_uri": "https://localhost:8080/",
          "height": 217
        },
        "id": "s259ZBRSxrE7",
        "outputId": "fc3df0d8-b301-4d44-dc88-2bf5ca468401"
      },
      "outputs": [
        {
          "ename": "IndexError",
          "evalue": "list index out of range",
          "output_type": "error",
          "traceback": [
            "\u001b[1;31m---------------------------------------------------------------------------\u001b[0m",
            "\u001b[1;31mIndexError\u001b[0m                                Traceback (most recent call last)",
            "\u001b[1;32me:\\Work\\STUDENT\\Assignment -5 - NLP - CBOW Implementation.ipynb Cell 15\u001b[0m line \u001b[0;36m4\n\u001b[0;32m      <a href='vscode-notebook-cell:/e%3A/Work/STUDENT/Assignment%20-5%20-%20NLP%20-%20CBOW%20Implementation.ipynb#X40sZmlsZQ%3D%3D?line=0'>1</a>\u001b[0m \u001b[39m#for val in dat:\u001b[39;00m\n\u001b[0;32m      <a href='vscode-notebook-cell:/e%3A/Work/STUDENT/Assignment%20-5%20-%20NLP%20-%20CBOW%20Implementation.ipynb#X40sZmlsZQ%3D%3D?line=1'>2</a>\u001b[0m  \u001b[39m# print(val[0],val[1])\u001b[39;00m\n\u001b[0;32m      <a href='vscode-notebook-cell:/e%3A/Work/STUDENT/Assignment%20-5%20-%20NLP%20-%20CBOW%20Implementation.ipynb#X40sZmlsZQ%3D%3D?line=2'>3</a>\u001b[0m i\u001b[39m=\u001b[39m\u001b[39m1\u001b[39m\n\u001b[1;32m----> <a href='vscode-notebook-cell:/e%3A/Work/STUDENT/Assignment%20-5%20-%20NLP%20-%20CBOW%20Implementation.ipynb#X40sZmlsZQ%3D%3D?line=3'>4</a>\u001b[0m \u001b[39mprint\u001b[39m(dat[i][\u001b[39m0\u001b[39m],dat[i][\u001b[39m1\u001b[39m])\n\u001b[0;32m      <a href='vscode-notebook-cell:/e%3A/Work/STUDENT/Assignment%20-5%20-%20NLP%20-%20CBOW%20Implementation.ipynb#X40sZmlsZQ%3D%3D?line=4'>5</a>\u001b[0m \u001b[39mprint\u001b[39m(model1\u001b[39m.\u001b[39mpredict_output_word(dat[i][\u001b[39m0\u001b[39m]))\n",
            "\u001b[1;31mIndexError\u001b[0m: list index out of range"
          ]
        }
      ],
      "source": [
        "#for val in dat:\n",
        " # print(val[0],val[1])\n",
        "i=1\n",
        "print(dat[i][0],dat[i][1])\n",
        "print(model1.predict_output_word(dat[i][0]))"
      ]
    },
    {
      "cell_type": "code",
      "execution_count": 38,
      "metadata": {
        "colab": {
          "base_uri": "https://localhost:8080/",
          "height": 265
        },
        "id": "hL9PefokSz8A",
        "outputId": "8ee77cc7-6264-4389-d52c-312f37fa552c"
      },
      "outputs": [
        {
          "ename": "AttributeError",
          "evalue": "The vocab attribute was removed from KeyedVector in Gensim 4.0.0.\nUse KeyedVector's .key_to_index dict, .index_to_key list, and methods .get_vecattr(key, attr) and .set_vecattr(key, attr, new_val) instead.\nSee https://github.com/RaRe-Technologies/gensim/wiki/Migrating-from-Gensim-3.x-to-4",
          "output_type": "error",
          "traceback": [
            "\u001b[1;31m---------------------------------------------------------------------------\u001b[0m",
            "\u001b[1;31mAttributeError\u001b[0m                            Traceback (most recent call last)",
            "\u001b[1;32me:\\Work\\STUDENT\\Assignment -5 - NLP - CBOW Implementation.ipynb Cell 16\u001b[0m line \u001b[0;36m3\n\u001b[0;32m      <a href='vscode-notebook-cell:/e%3A/Work/STUDENT/Assignment%20-5%20-%20NLP%20-%20CBOW%20Implementation.ipynb#X41sZmlsZQ%3D%3D?line=0'>1</a>\u001b[0m \u001b[39mfrom\u001b[39;00m \u001b[39msklearn\u001b[39;00m\u001b[39m.\u001b[39;00m\u001b[39mdecomposition\u001b[39;00m \u001b[39mimport\u001b[39;00m PCA\n\u001b[0;32m      <a href='vscode-notebook-cell:/e%3A/Work/STUDENT/Assignment%20-5%20-%20NLP%20-%20CBOW%20Implementation.ipynb#X41sZmlsZQ%3D%3D?line=1'>2</a>\u001b[0m \u001b[39mfrom\u001b[39;00m \u001b[39mmatplotlib\u001b[39;00m \u001b[39mimport\u001b[39;00m pyplot\n\u001b[1;32m----> <a href='vscode-notebook-cell:/e%3A/Work/STUDENT/Assignment%20-5%20-%20NLP%20-%20CBOW%20Implementation.ipynb#X41sZmlsZQ%3D%3D?line=2'>3</a>\u001b[0m X \u001b[39m=\u001b[39m model1[model1\u001b[39m.\u001b[39;49mwv\u001b[39m.\u001b[39;49mvocab]\n\u001b[0;32m      <a href='vscode-notebook-cell:/e%3A/Work/STUDENT/Assignment%20-5%20-%20NLP%20-%20CBOW%20Implementation.ipynb#X41sZmlsZQ%3D%3D?line=3'>4</a>\u001b[0m pca \u001b[39m=\u001b[39m PCA(n_components\u001b[39m=\u001b[39m\u001b[39m2\u001b[39m)\n\u001b[0;32m      <a href='vscode-notebook-cell:/e%3A/Work/STUDENT/Assignment%20-5%20-%20NLP%20-%20CBOW%20Implementation.ipynb#X41sZmlsZQ%3D%3D?line=4'>5</a>\u001b[0m result \u001b[39m=\u001b[39m pca\u001b[39m.\u001b[39mfit_transform(X)\n",
            "File \u001b[1;32mc:\\Users\\vmkat\\AppData\\Local\\Programs\\Python\\Python310\\lib\\site-packages\\gensim\\models\\keyedvectors.py:734\u001b[0m, in \u001b[0;36mKeyedVectors.vocab\u001b[1;34m(self)\u001b[0m\n\u001b[0;32m    732\u001b[0m \u001b[39m@property\u001b[39m\n\u001b[0;32m    733\u001b[0m \u001b[39mdef\u001b[39;00m \u001b[39mvocab\u001b[39m(\u001b[39mself\u001b[39m):\n\u001b[1;32m--> 734\u001b[0m     \u001b[39mraise\u001b[39;00m \u001b[39mAttributeError\u001b[39;00m(\n\u001b[0;32m    735\u001b[0m         \u001b[39m\"\u001b[39m\u001b[39mThe vocab attribute was removed from KeyedVector in Gensim 4.0.0.\u001b[39m\u001b[39m\\n\u001b[39;00m\u001b[39m\"\u001b[39m\n\u001b[0;32m    736\u001b[0m         \u001b[39m\"\u001b[39m\u001b[39mUse KeyedVector\u001b[39m\u001b[39m'\u001b[39m\u001b[39ms .key_to_index dict, .index_to_key list, and methods \u001b[39m\u001b[39m\"\u001b[39m\n\u001b[0;32m    737\u001b[0m         \u001b[39m\"\u001b[39m\u001b[39m.get_vecattr(key, attr) and .set_vecattr(key, attr, new_val) instead.\u001b[39m\u001b[39m\\n\u001b[39;00m\u001b[39m\"\u001b[39m\n\u001b[0;32m    738\u001b[0m         \u001b[39m\"\u001b[39m\u001b[39mSee https://github.com/RaRe-Technologies/gensim/wiki/Migrating-from-Gensim-3.x-to-4\u001b[39m\u001b[39m\"\u001b[39m\n\u001b[0;32m    739\u001b[0m     )\n",
            "\u001b[1;31mAttributeError\u001b[0m: The vocab attribute was removed from KeyedVector in Gensim 4.0.0.\nUse KeyedVector's .key_to_index dict, .index_to_key list, and methods .get_vecattr(key, attr) and .set_vecattr(key, attr, new_val) instead.\nSee https://github.com/RaRe-Technologies/gensim/wiki/Migrating-from-Gensim-3.x-to-4"
          ]
        }
      ],
      "source": [
        "from sklearn.decomposition import PCA\n",
        "from matplotlib import pyplot\n",
        "X = model1[model1.wv.vocab]\n",
        "pca = PCA(n_components=2)\n",
        "result = pca.fit_transform(X)\n",
        "pyplot.scatter(result[:, 0], result[:, 1])\n",
        "words = list(model1.wv.vocab)\n",
        "for i, word in enumerate(words):\n",
        "   pyplot.annotate(word, xy=(result[i, 0], result[i, 1]))\n",
        "pyplot.show()"
      ]
    }
  ],
  "metadata": {
    "colab": {
      "collapsed_sections": [],
      "provenance": []
    },
    "kernelspec": {
      "display_name": "Python 3",
      "name": "python3"
    },
    "language_info": {
      "codemirror_mode": {
        "name": "ipython",
        "version": 3
      },
      "file_extension": ".py",
      "mimetype": "text/x-python",
      "name": "python",
      "nbconvert_exporter": "python",
      "pygments_lexer": "ipython3",
      "version": "3.10.11"
    }
  },
  "nbformat": 4,
  "nbformat_minor": 0
}
